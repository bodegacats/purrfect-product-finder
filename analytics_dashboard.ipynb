{
 "cells": [
  {
   "cell_type": "markdown",
   "id": "07dd2710",
   "metadata": {},
   "source": [
    "# Analytics Dashboard"
   ]
  },
  {
   "cell_type": "markdown",
   "id": "80c17bf8",
   "metadata": {},
   "source": [
    "## How to use this notebook\n",
    "1. Launch Jupyter Notebook in this repository.\n",
    "2. Open `analytics_dashboard.ipynb` by clicking it.\n",
    "3. When `reports/summary.csv` updates, choose **Kernel -> Restart & Run All** to refresh the charts."
   ]
  },
  {
   "cell_type": "code",
   "execution_count": null,
   "id": "4d4f3fb6",
   "metadata": {},
   "outputs": [],
   "source": [
    "import pandas as pd\n",
    "import matplotlib.pyplot as plt"
   ]
  },
  {
   "cell_type": "code",
   "execution_count": null,
   "id": "799b1bda",
   "metadata": {},
   "outputs": [],
   "source": [
    "summary = pd.read_csv(\"reports/summary.csv\", parse_dates=[\"date\"])\n",
    "summary.set_index(\"date\", inplace=True)\n",
    "summary"
   ]
  },
  {
   "cell_type": "code",
   "execution_count": null,
   "id": "5d6ea610",
   "metadata": {},
   "outputs": [],
   "source": [
    "fig, ax1 = plt.subplots()\n",
    "ax1.set_ylabel(\"Clicks\")\n",
    "ax1.plot(summary.index, summary[\"clicks\"], label=\"Clicks\")\n",
    "ax2 = ax1.twinx()\n",
    "ax2.set_ylabel(\"Revenue\")\n",
    "ax2.plot(summary.index, summary[\"revenue\"], label=\"Revenue\")\n",
    "fig.autofmt_xdate()\n",
    "plt.show()"
   ]
  }
 ],
 "metadata": {
  "kernelspec": {
   "display_name": "Python 3",
   "language": "python",
   "name": "python3"
  },
  "language_info": {
   "name": "python"
  }
 },
 "nbformat": 4,
 "nbformat_minor": 5
}
