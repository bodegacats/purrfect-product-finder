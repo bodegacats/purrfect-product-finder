{
 "cells": [
  {
   "cell_type": "markdown",
   "metadata": {},
   "source": [
    "# Analytics Dashboard\n",
    "\n",
   ]
  },
  {
   "cell_type": "markdown",
   ]
  },
  {
   "cell_type": "code",
   "execution_count": null,
   "metadata": {},
   "outputs": [],
   "source": [
    "import pandas as pd\n",
    "summary.head()"
   ]
  },
  {
   ]
  },
  {
   "cell_type": "code",
   "execution_count": null,
  }
 ],
 "metadata": {},
 "nbformat": 4,
 "nbformat_minor": 5
}
