{
 "cells": [
  {
   "cell_type": "markdown",
   "id": "7a26e630",
   "metadata": {},
   "source": [
    "# Analytics Dashboard\n",
    "\n",
    "This notebook reads `reports/summary.csv` and generates charts for clicks and revenue over time.\n",
    "\n",
    "Follow the instructions below to view the analytics.\n"
   ]
  },
  {
   "cell_type": "markdown",
   "id": "0ff36d03",
   "metadata": {},
   "source": [
    "## Instructions\n",
    "\n",
    "1. Ensure the file `reports/summary.csv` is present.\n",
    "2. Run each code cell in order to load the data and display the charts.\n"
   ]
  },
  {
   "cell_type": "code",
   "execution_count": null,
   "id": "41a59332",
   "metadata": {},
   "outputs": [],
   "source": [
    "import pandas as pd\n",
    "import matplotlib.pyplot as plt\n",
    "\n",
    "# Load the summary data\n",
    "summary = pd.read_csv('reports/summary.csv')\n",
    "\n",
    "# Display the first few rows\n",
    "summary.head()"
   ]
  },
  {
   "cell_type": "code",
   "execution_count": null,
   "id": "bdf4b530",
   "metadata": {},
   "outputs": [],
   "source": [
    "# Plot clicks over time\n",
    "summary.plot(x='date', y='clicks', kind='line')\n",
    "plt.xlabel('Date')\n",
    "plt.ylabel('Clicks')\n",
    "plt.title('Clicks Over Time')\n",
    "plt.show()"
   ]
  },
  {
   "cell_type": "code",
   "execution_count": null,
   "id": "223f44e2",
   "metadata": {},
   "outputs": [],
   "source": [
    "# Plot revenue over time\n",
    "summary.plot(x='date', y='revenue', kind='line')\n",
    "plt.xlabel('Date')\n",
    "plt.ylabel('Revenue')\n",
    "plt.title('Revenue Over Time')\n",
    "plt.show()"
   ]
  }
 ],
 "metadata": {},
 "nbformat": 4,
 "nbformat_minor": 5
}
